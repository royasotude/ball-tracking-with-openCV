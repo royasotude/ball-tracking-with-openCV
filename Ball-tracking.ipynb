{
 "cells": [
  {
   "cell_type": "code",
   "execution_count": 1,
   "id": "14a23936-73a6-4f56-8d8b-9f8afa817c63",
   "metadata": {},
   "outputs": [
    {
     "name": "stdout",
     "output_type": "stream",
     "text": [
      "Requirement already satisfied: opencv-python in f:\\anaconda\\envs\\image-processing\\lib\\site-packages (4.9.0.80)\n",
      "Requirement already satisfied: numpy>=1.21.2 in f:\\anaconda\\envs\\image-processing\\lib\\site-packages (from opencv-python) (1.26.4)\n"
     ]
    }
   ],
   "source": [
    "!pip install opencv-python"
   ]
  },
  {
   "cell_type": "code",
   "execution_count": 2,
   "id": "394c84d3-ce23-4500-842d-60308e500a91",
   "metadata": {},
   "outputs": [],
   "source": [
    "from IPython.display import clear_output"
   ]
  },
  {
   "cell_type": "code",
   "execution_count": 3,
   "id": "8e2c06ea-771d-470a-b23d-8cdc7f601f24",
   "metadata": {},
   "outputs": [],
   "source": [
    "import numpy as np\n",
    "import matplotlib.pyplot as plt \n",
    "import cv2"
   ]
  },
  {
   "cell_type": "code",
   "execution_count": 37,
   "id": "316d0b8e-9350-41c7-97ef-7cc68e67d536",
   "metadata": {},
   "outputs": [],
   "source": [
    "cap = cv2.VideoCapture(\"data/IMG_3059.MOV\")\n",
    "\n",
    "#fps = cap.get(cv2.CAP_PROP_FPS)\n",
    "#height =cap.get(cv2.CAP_PROP_FRAME_HEIGHT)\n",
    "#width =cap.get(cv2.CAP_PROP_FRAME_WIDTH)\n",
    "#print(height , width)\n",
    "\n",
    "#fourcc = cv2.VideoWriter_fourcc(\"H\", \"2\", \"6\", \"4\")  # Codec for .mp4 file\n",
    "#out = cv2.VideoWriter('my_results/ball-tracking.mp4', fourcc, fps, (height, width))\n",
    "\n",
    "while cap.isOpened():\n",
    "    ret, frame = cap.read()\n",
    "   \n",
    "\n",
    "    if not ret:\n",
    "        break\n",
    "\n",
    "    #frame = cv2.resize(frame , (640, 480))\n",
    "    hsv = cv2.cvtColor(frame , cv2.COLOR_BGR2HSV)\n",
    "    h , s , v = cv2.split(hsv)\n",
    "\n",
    "    lower_green = np.array([20 , 100 , 10])\n",
    "    upper_green = np.array([45 , 255 , 100])\n",
    "\n",
    "    mask = cv2.inRange(hsv , lower_green , upper_green)\n",
    "    contours, _ = cv2.findContours(mask, cv2.RETR_TREE, cv2.CHAIN_APPROX_SIMPLE)\n",
    "\n",
    "    # Draw a bounding box around the largest contour (if any)\n",
    "    if contours:\n",
    "        # Find the largest contour\n",
    "        largest_contour = max(contours, key=cv2.contourArea)\n",
    "        x, y, w, h = cv2.boundingRect(largest_contour)\n",
    "        # Draw the bounding box\n",
    "        cv2.rectangle(frame, (x, y), (x + w , y + h ), (0, 255, 0), 2)\n",
    "    \n",
    "        \n",
    "    cv2.imshow(\"Frame\", frame)\n",
    "    #cv2.imshow(\"output\" , res)\n",
    "\n",
    "    key = cv2.waitKey(50)\n",
    "    if key == ord(\"q\"):\n",
    "        break\n",
    "    \n",
    "cv2.destroyAllWindows()\n",
    "cap.release()\n",
    "#out.release()"
   ]
  },
  {
   "cell_type": "code",
   "execution_count": 10,
   "id": "98eac8af-8f6a-4a68-b565-06d386b867fd",
   "metadata": {
    "scrolled": true
   },
   "outputs": [
    {
     "name": "stdout",
     "output_type": "stream",
     "text": [
      "26 223 55\n"
     ]
    }
   ],
   "source": [
    "def callback_function(event , x , y , flag , param):\n",
    "    clear_output(wait = True)\n",
    "    print(h[y, x] , s[y , x] , v[y , x])\n",
    "\n",
    "cv2.imshow(\"Frame\" , frame)\n",
    "cv2.setMouseCallback(\"Frame\" , callback_function)\n",
    "\n",
    "cv2.waitKey()\n",
    "cv2.destroyAllWindows()"
   ]
  },
  {
   "cell_type": "code",
   "execution_count": 32,
   "id": "4b997ef6-8b64-4540-b76b-4d857b3bfca7",
   "metadata": {},
   "outputs": [
    {
     "data": {
      "text/plain": [
       "0.0"
      ]
     },
     "execution_count": 32,
     "metadata": {},
     "output_type": "execute_result"
    }
   ],
   "source": [
    "height =cap.get(cv2.CAP_PROP_FRAME_HEIGHT)\n",
    "height"
   ]
  },
  {
   "cell_type": "code",
   "execution_count": null,
   "id": "59260f6f-acf9-4fce-8d82-84f49f1aec8f",
   "metadata": {},
   "outputs": [],
   "source": []
  }
 ],
 "metadata": {
  "kernelspec": {
   "display_name": "Python 3 (ipykernel)",
   "language": "python",
   "name": "python3"
  },
  "language_info": {
   "codemirror_mode": {
    "name": "ipython",
    "version": 3
   },
   "file_extension": ".py",
   "mimetype": "text/x-python",
   "name": "python",
   "nbconvert_exporter": "python",
   "pygments_lexer": "ipython3",
   "version": "3.11.9"
  }
 },
 "nbformat": 4,
 "nbformat_minor": 5
}
